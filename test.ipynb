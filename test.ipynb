{
 "cells": [
  {
   "cell_type": "code",
   "execution_count": 1,
   "metadata": {},
   "outputs": [
    {
     "name": "stdout",
     "output_type": "stream",
     "text": [
      "[ PRNet ] Random Seed: 5\n",
      "2020-10-06 03:15:53.716071: W tensorflow/stream_executor/platform/default/dso_loader.cc:55] Could not load dynamic library 'libnvinfer.so.6'; dlerror: libnvinfer.so.6: cannot open shared object file: No such file or directory; LD_LIBRARY_PATH: /usr/local/lib/python3.6/dist-packages/cv2/../../../../lib:/usr/local/nvidia/lib:/usr/local/nvidia/lib64\n",
      "2020-10-06 03:15:53.716189: W tensorflow/stream_executor/platform/default/dso_loader.cc:55] Could not load dynamic library 'libnvinfer_plugin.so.6'; dlerror: libnvinfer_plugin.so.6: cannot open shared object file: No such file or directory; LD_LIBRARY_PATH: /usr/local/lib/python3.6/dist-packages/cv2/../../../../lib:/usr/local/nvidia/lib:/usr/local/nvidia/lib64\n",
      "2020-10-06 03:15:53.716205: W tensorflow/compiler/tf2tensorrt/utils/py_utils.cc:30] Cannot dlopen some TensorRT libraries. If you would like to use Nvidia GPU with TensorRT, please make sure the missing libraries mentioned above are installed properly.\n",
      "Traceback (most recent call last):\n",
      "  File \"train.py\", line 154, in <module>\n",
      "    main(args.train_dir)\n",
      "  File \"train.py\", line 50, in main\n",
      "    ToNormalize(FLAGS[\"normalize_mean\"], FLAGS[\"normalize_std\"])]))\n",
      "  File \"/data/home/sunjinsheng/1_DLBase/06_reconstruction/PRNet_PyTorch/tools/WLP300dataset.py\", line 49, in __init__\n",
      "    self._max_idx()\n",
      "  File \"/data/home/sunjinsheng/1_DLBase/06_reconstruction/PRNet_PyTorch/tools/WLP300dataset.py\", line 62, in _max_idx\n",
      "    _tmp_lst = map(lambda x: int(x), os.listdir(self.root_dir))\n",
      "FileNotFoundError: [Errno 2] No such file or directory: './300WLP_IBUG'\n"
     ]
    }
   ],
   "source": [
    "!python train.py --train_dir ./300WLP_IBUG"
   ]
  },
  {
   "cell_type": "code",
   "execution_count": 6,
   "metadata": {
    "tags": []
   },
   "outputs": [
    {
     "output_type": "stream",
     "name": "stdout",
     "text": "#########################\n[PRNet Inference] 2 picture were under processing~\n#########################\nFigure(640x480)\nFigure(640x480)\n"
    }
   ],
   "source": [
    "!python inference.py -i TestImages \\\n",
    "-o TestImages/results \\\n",
    "--model results/latest.pth \\\n",
    "--gpu 0 \\\n",
    "--isImage False \\\n",
    "--isShow True"
   ]
  }
 ],
 "metadata": {
  "kernelspec": {
   "name": "Python 3.6.9 64-bit",
   "display_name": "Python 3.6.9 64-bit",
   "metadata": {
    "interpreter": {
     "hash": "4cd7ab41f5fca4b9b44701077e38c5ffd31fe66a6cab21e0214b68d958d0e462"
    }
   }
  },
  "language_info": {
   "codemirror_mode": {
    "name": "ipython",
    "version": 3
   },
   "file_extension": ".py",
   "mimetype": "text/x-python",
   "name": "python",
   "nbconvert_exporter": "python",
   "pygments_lexer": "ipython3",
   "version": "3.6.9-final"
  }
 },
 "nbformat": 4,
 "nbformat_minor": 4
}